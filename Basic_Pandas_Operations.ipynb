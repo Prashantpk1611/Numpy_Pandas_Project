{
 "cells": [
  {
   "cell_type": "markdown",
   "id": "cf0eba3d-413f-430c-a401-b50c90456951",
   "metadata": {},
   "source": [
    "#### This iis the project 1"
   ]
  },
  {
   "cell_type": "code",
   "execution_count": 19,
   "id": "54ecdf4d-c310-451a-b95e-5af309ac2273",
   "metadata": {},
   "outputs": [
    {
     "name": "stdout",
     "output_type": "stream",
     "text": [
      "       name  com  sal\n",
      "0  Prashant  Nag    8\n",
      "1     shrey  TCS    6\n",
      "2     vikas  BLS    6\n",
      "3    Adhyan  TCS    4\n",
      "4     Sumit  TCS    5\n",
      "5     Mudit  TCS    7\n",
      "6   Vipasha  NaN    4\n"
     ]
    }
   ],
   "source": [
    "import pandas as pd\n",
    "import numpy as np\n",
    "data = {'name' : [\"Prashant\",\"shrey\",\"vikas\",\"Adhyan\",\"Sumit\",\"Mudit\",\"Vipasha\"],\n",
    "        'com' : [\"Nag\",\"TCS\",\"BLS\",\"TCS\",\"TCS\",\"TCS\",np.nan],\n",
    "        'sal' : [8,6,6,4,5,7,4]}\n",
    "\n",
    "df = pd.DataFrame(data)\n",
    "print(df)"
   ]
  },
  {
   "cell_type": "markdown",
   "id": "cc0feedf-9fd6-48c2-864b-733525bc5262",
   "metadata": {},
   "source": [
    "#### Get First and Last rows"
   ]
  },
  {
   "cell_type": "code",
   "execution_count": 20,
   "id": "100df161-8eda-439d-8073-446190648951",
   "metadata": {},
   "outputs": [
    {
     "name": "stdout",
     "output_type": "stream",
     "text": [
      "By default istop 5 rows\n",
      "        name  com  sal\n",
      "0  Prashant  Nag    8\n",
      "1     shrey  TCS    6\n",
      "2     vikas  BLS    6\n",
      "3    Adhyan  TCS    4\n",
      "4     Sumit  TCS    5\n",
      "\n",
      "top 2rows \n",
      "        name  com  sal\n",
      "0  Prashant  Nag    8\n",
      "1     shrey  TCS    6\n",
      "\n",
      "By default is last 5 rows\n",
      "       name  com  sal\n",
      "2    vikas  BLS    6\n",
      "3   Adhyan  TCS    4\n",
      "4    Sumit  TCS    5\n",
      "5    Mudit  TCS    7\n",
      "6  Vipasha  NaN    4\n",
      "\n",
      "last 2 rows\n",
      "       name  com  sal\n",
      "5    Mudit  TCS    7\n",
      "6  Vipasha  NaN    4\n"
     ]
    }
   ],
   "source": [
    "print(\"By default istop 5 rows\\n\",df.head())\n",
    "print(\"\\ntop 2rows \\n\",df.head(2))\n",
    "print(\"\\nBy default is last 5 rows\\n\",df.tail())\n",
    "print(\"\\nlast 2 rows\\n\",df.tail(2))"
   ]
  },
  {
   "cell_type": "markdown",
   "id": "61cecd88-1014-4fab-a220-c2259f3b57e7",
   "metadata": {},
   "source": [
    "#### Find the shape and rows,columns"
   ]
  },
  {
   "cell_type": "code",
   "execution_count": 22,
   "id": "323ad2c8-0fa3-4359-a431-703d716268c3",
   "metadata": {},
   "outputs": [
    {
     "name": "stdout",
     "output_type": "stream",
     "text": [
      "(7, 3)\n",
      "No of rows:  7\n",
      "No of Columns:  3\n"
     ]
    }
   ],
   "source": [
    "print(df.shape)\n",
    "print(\"No of rows: \" ,df.shape[0])\n",
    "print(\"No of Columns: \", df.shape[1])"
   ]
  },
  {
   "cell_type": "markdown",
   "id": "0c5ae4f5-feea-4051-8ee7-53a2621dec7e",
   "metadata": {},
   "source": [
    "#### Get the info about the dataframe"
   ]
  },
  {
   "cell_type": "code",
   "execution_count": 23,
   "id": "e0f90ac3-05a9-4be7-b1d4-6ee46884052c",
   "metadata": {},
   "outputs": [
    {
     "name": "stdout",
     "output_type": "stream",
     "text": [
      "<class 'pandas.core.frame.DataFrame'>\n",
      "RangeIndex: 7 entries, 0 to 6\n",
      "Data columns (total 3 columns):\n",
      " #   Column  Non-Null Count  Dtype \n",
      "---  ------  --------------  ----- \n",
      " 0   name    7 non-null      object\n",
      " 1   com     6 non-null      object\n",
      " 2   sal     7 non-null      int64 \n",
      "dtypes: int64(1), object(2)\n",
      "memory usage: 300.0+ bytes\n",
      "None\n"
     ]
    }
   ],
   "source": [
    "print(df.info())"
   ]
  },
  {
   "cell_type": "markdown",
   "id": "036f00ac-ba0b-4e28-84aa-0031679826a1",
   "metadata": {},
   "source": [
    "#### Check  Null Value is the dataset"
   ]
  },
  {
   "cell_type": "code",
   "execution_count": 24,
   "id": "276dc178-af89-48e4-bd25-b13ef11e747e",
   "metadata": {},
   "outputs": [
    {
     "name": "stdout",
     "output_type": "stream",
     "text": [
      "    name    com    sal\n",
      "0  False  False  False\n",
      "1  False  False  False\n",
      "2  False  False  False\n",
      "3  False  False  False\n",
      "4  False  False  False\n",
      "5  False  False  False\n",
      "6  False   True  False\n",
      "Null Values count\n",
      " name    0\n",
      "com     1\n",
      "sal     0\n",
      "dtype: int64\n",
      "Row by null valuess\n",
      ": 0    0\n",
      "1    0\n",
      "2    0\n",
      "3    0\n",
      "4    0\n",
      "5    0\n",
      "6    1\n",
      "dtype: int64\n"
     ]
    }
   ],
   "source": [
    "print(df.isnull())\n",
    "print(\"Null Values count\\n\",df.isnull().sum())\n",
    "print(\"Row by null valuess\\n:\",df.isnull().sum(axis = 1))"
   ]
  },
  {
   "cell_type": "markdown",
   "id": "15928ed7-56f6-4dc0-890d-f87e7ade9328",
   "metadata": {},
   "source": [
    "#### Get overall Statisics of dataframe"
   ]
  },
  {
   "cell_type": "code",
   "execution_count": 26,
   "id": "1938153e-0910-4a4a-a175-dbd902e2c536",
   "metadata": {},
   "outputs": [
    {
     "name": "stdout",
     "output_type": "stream",
     "text": [
      "            sal\n",
      "count  7.000000\n",
      "mean   5.714286\n",
      "std    1.496026\n",
      "min    4.000000\n",
      "25%    4.500000\n",
      "50%    6.000000\n",
      "75%    6.500000\n",
      "max    8.000000\n",
      "            name  com       sal\n",
      "count          7    6  7.000000\n",
      "unique         7    3       NaN\n",
      "top     Prashant  TCS       NaN\n",
      "freq           1    4       NaN\n",
      "mean         NaN  NaN  5.714286\n",
      "std          NaN  NaN  1.496026\n",
      "min          NaN  NaN  4.000000\n",
      "25%          NaN  NaN  4.500000\n",
      "50%          NaN  NaN  6.000000\n",
      "75%          NaN  NaN  6.500000\n",
      "max          NaN  NaN  8.000000\n"
     ]
    }
   ],
   "source": [
    "print(df.describe())   # this print  the info only for the intigers columns\n",
    "print(df.describe(include = 'all'))  # this print the info about other datatypes as well \n"
   ]
  },
  {
   "cell_type": "markdown",
   "id": "1c7c08e6-0750-4eef-aa69-a31d120d8ec8",
   "metadata": {},
   "source": [
    "#### Find unique column from the com column"
   ]
  },
  {
   "cell_type": "code",
   "execution_count": 31,
   "id": "3e315b39-15e3-42ee-9345-a1c671adb855",
   "metadata": {},
   "outputs": [
    {
     "name": "stdout",
     "output_type": "stream",
     "text": [
      "['Nag' 'TCS' 'BLS' nan]\n",
      "3\n",
      "com\n",
      "TCS    4\n",
      "Nag    1\n",
      "BLS    1\n",
      "Name: count, dtype: int64\n"
     ]
    }
   ],
   "source": [
    "print(df['com'].unique())\n",
    "print(df['com'].nunique())  #  nunique is used to count the  unique values ffrom any  column\n",
    "print(df['com'].value_counts())  #Value count  is used to count the value from the each unique category"
   ]
  },
  {
   "cell_type": "markdown",
   "id": "630bddea-4d7b-4594-b7c4-33f5cee34b7b",
   "metadata": {},
   "source": [
    "#### find the sal between 6 to 8  (both included)"
   ]
  },
  {
   "cell_type": "code",
   "execution_count": 47,
   "id": "5899baa3-be78-4e90-8f05-ebff57df82e4",
   "metadata": {},
   "outputs": [
    {
     "name": "stdout",
     "output_type": "stream",
     "text": [
      "Here is the no of  people who havee this criteria: \n",
      "4\n",
      "Using the Between mwthod: \n",
      "4\n"
     ]
    }
   ],
   "source": [
    "print(\"Here is the no of  people who havee this criteria: \")\n",
    "print(len(df[(df['sal']>=6) &  (df['sal']<=8)])) #Note that if we are passing ore then one condition always use () for passing the condition ex: (df['sal']<=8)\n",
    "\n",
    "print(\"Using the Between mwthod: \")\n",
    "print(sum(df['sal'].between(6,8)))  # "
   ]
  },
  {
   "cell_type": "markdown",
   "id": "96b36dab-c91e-4604-b672-6b5d5fb91c2a",
   "metadata": {},
   "source": [
    "#### find the average sal: "
   ]
  },
  {
   "cell_type": "code",
   "execution_count": 53,
   "id": "5b783f2b-cb93-4866-8709-4bf923de0a90",
   "metadata": {},
   "outputs": [
    {
     "name": "stdout",
     "output_type": "stream",
     "text": [
      "Average value: 5.714285714285714\n",
      "Total sal 40\n",
      "Min sal: 4\n",
      "Max Sal: 8\n",
      "Standered diviation of sal 1.4960264830861911\n"
     ]
    }
   ],
   "source": [
    "print(\"Average value:\",df['sal'].mean())\n",
    "print(\"Total sal\",df['sal'].sum())\n",
    "print(\"Min sal:\",df['sal'].min())\n",
    "print(\"Max Sal:\",df['sal'].max())\n",
    "print(\"Standered diviation of sal\",df['sal'].std())"
   ]
  },
  {
   "cell_type": "markdown",
   "id": "c654ee54-f4ec-4d64-8d03-29663a4947dd",
   "metadata": {},
   "source": [
    "#### Create one new column and apply your own function:"
   ]
  },
  {
   "cell_type": "code",
   "execution_count": 58,
   "id": "7374917f-88b7-423a-8b45-7dfcc40dc421",
   "metadata": {},
   "outputs": [
    {
     "name": "stdout",
     "output_type": "stream",
     "text": [
      "       name  com  sal    sal/12\n",
      "0  Prashant  Nag    8  0.666667\n",
      "1     shrey  TCS    6  0.500000\n",
      "2     vikas  BLS    6  0.500000\n",
      "3    Adhyan  TCS    4  0.333333\n",
      "4     Sumit  TCS    5  0.416667\n",
      "5     Mudit  TCS    7  0.583333\n",
      "6   Vipasha  NaN    4  0.333333\n"
     ]
    }
   ],
   "source": [
    "# This function will divide  the saalry value by 12:\n",
    "def div12(x):\n",
    "    return x/12\n",
    "\n",
    "df['sal/12'] = df['sal'].apply(div12)  # Apply method is used to apply our own function over the dataframe...\n",
    "print(df)\n",
    "\n",
    "#  df['sal'].apply(lambda x: x/12) Similar as above but used lambda function"
   ]
  },
  {
   "cell_type": "markdown",
   "id": "c6a95a6e-8786-4b67-af39-4d9f08d6787a",
   "metadata": {},
   "source": [
    "#### Map Function is Pandas : used for maaping record with specific value"
   ]
  },
  {
   "cell_type": "code",
   "execution_count": 85,
   "id": "3e240f76-ef5a-4807-8738-10a1f996b2a2",
   "metadata": {},
   "outputs": [
    {
     "name": "stdout",
     "output_type": "stream",
     "text": [
      "       name  com  sal    sal/12  com_maping\n",
      "0  Prashant  Nag    8  0.666667         2.0\n",
      "1     shrey  TCS    6  0.500000         1.0\n",
      "2     vikas  BLS    6  0.500000         2.0\n",
      "3    Adhyan  TCS    4  0.333333         1.0\n",
      "4     Sumit  TCS    5  0.416667         1.0\n",
      "5     Mudit  TCS    7  0.583333         1.0\n",
      "6   Vipasha  NaN    4  0.333333         NaN\n"
     ]
    }
   ],
   "source": [
    "df['com_maping'] = df['com'].map({'TCS': 1 , 'Nag' : 2, 'BLS' : 2})\n",
    "print(df)"
   ]
  },
  {
   "cell_type": "markdown",
   "id": "167f4266-8547-4139-8f21-1ff5c4a978a9",
   "metadata": {},
   "source": [
    "#### Drop Columns in Pandas"
   ]
  },
  {
   "cell_type": "code",
   "execution_count": 86,
   "id": "0812ca46-dfbc-4f99-9cd5-47fe6dbcc9f8",
   "metadata": {},
   "outputs": [
    {
     "data": {
      "text/html": [
       "<div>\n",
       "<style scoped>\n",
       "    .dataframe tbody tr th:only-of-type {\n",
       "        vertical-align: middle;\n",
       "    }\n",
       "\n",
       "    .dataframe tbody tr th {\n",
       "        vertical-align: top;\n",
       "    }\n",
       "\n",
       "    .dataframe thead th {\n",
       "        text-align: right;\n",
       "    }\n",
       "</style>\n",
       "<table border=\"1\" class=\"dataframe\">\n",
       "  <thead>\n",
       "    <tr style=\"text-align: right;\">\n",
       "      <th></th>\n",
       "      <th>name</th>\n",
       "      <th>com</th>\n",
       "      <th>sal</th>\n",
       "      <th>sal/12</th>\n",
       "    </tr>\n",
       "  </thead>\n",
       "  <tbody>\n",
       "    <tr>\n",
       "      <th>0</th>\n",
       "      <td>Prashant</td>\n",
       "      <td>Nag</td>\n",
       "      <td>8</td>\n",
       "      <td>0.666667</td>\n",
       "    </tr>\n",
       "    <tr>\n",
       "      <th>1</th>\n",
       "      <td>shrey</td>\n",
       "      <td>TCS</td>\n",
       "      <td>6</td>\n",
       "      <td>0.500000</td>\n",
       "    </tr>\n",
       "    <tr>\n",
       "      <th>2</th>\n",
       "      <td>vikas</td>\n",
       "      <td>BLS</td>\n",
       "      <td>6</td>\n",
       "      <td>0.500000</td>\n",
       "    </tr>\n",
       "    <tr>\n",
       "      <th>3</th>\n",
       "      <td>Adhyan</td>\n",
       "      <td>TCS</td>\n",
       "      <td>4</td>\n",
       "      <td>0.333333</td>\n",
       "    </tr>\n",
       "    <tr>\n",
       "      <th>4</th>\n",
       "      <td>Sumit</td>\n",
       "      <td>TCS</td>\n",
       "      <td>5</td>\n",
       "      <td>0.416667</td>\n",
       "    </tr>\n",
       "    <tr>\n",
       "      <th>5</th>\n",
       "      <td>Mudit</td>\n",
       "      <td>TCS</td>\n",
       "      <td>7</td>\n",
       "      <td>0.583333</td>\n",
       "    </tr>\n",
       "    <tr>\n",
       "      <th>6</th>\n",
       "      <td>Vipasha</td>\n",
       "      <td>NaN</td>\n",
       "      <td>4</td>\n",
       "      <td>0.333333</td>\n",
       "    </tr>\n",
       "  </tbody>\n",
       "</table>\n",
       "</div>"
      ],
      "text/plain": [
       "       name  com  sal    sal/12\n",
       "0  Prashant  Nag    8  0.666667\n",
       "1     shrey  TCS    6  0.500000\n",
       "2     vikas  BLS    6  0.500000\n",
       "3    Adhyan  TCS    4  0.333333\n",
       "4     Sumit  TCS    5  0.416667\n",
       "5     Mudit  TCS    7  0.583333\n",
       "6   Vipasha  NaN    4  0.333333"
      ]
     },
     "execution_count": 86,
     "metadata": {},
     "output_type": "execute_result"
    }
   ],
   "source": [
    "df.drop('com_maping',axis  = 1) #for  droping single column\n",
    "# df.drop(['com_maping','sal/12'],axis = 1) forr  drowping the multiple column"
   ]
  },
  {
   "cell_type": "markdown",
   "id": "9b4f22e7-a7bd-436b-9c44-3e002f678505",
   "metadata": {},
   "source": [
    "#### Sorted the DataFrame by Sal"
   ]
  },
  {
   "cell_type": "code",
   "execution_count": 87,
   "id": "bc011836-505e-4c45-a7d6-34f4b0190531",
   "metadata": {},
   "outputs": [
    {
     "name": "stdout",
     "output_type": "stream",
     "text": [
      "       name  com  sal    sal/12  com_maping\n",
      "0  Prashant  Nag    8  0.666667         2.0\n",
      "5     Mudit  TCS    7  0.583333         1.0\n",
      "1     shrey  TCS    6  0.500000         1.0\n",
      "2     vikas  BLS    6  0.500000         2.0\n",
      "4     Sumit  TCS    5  0.416667         1.0\n",
      "3    Adhyan  TCS    4  0.333333         1.0\n",
      "6   Vipasha  NaN    4  0.333333         NaN\n"
     ]
    }
   ],
   "source": [
    "print(df.sort_values(by  = 'sal', ascending = False))"
   ]
  },
  {
   "cell_type": "markdown",
   "id": "5d292a0d-dc87-463f-8880-09e1ccbcc4fd",
   "metadata": {},
   "source": [
    "#### Display the Name and salary of TCS "
   ]
  },
  {
   "cell_type": "code",
   "execution_count": 93,
   "id": "f866cf2c-1577-4d44-b31d-1fc946fc481b",
   "metadata": {},
   "outputs": [
    {
     "data": {
      "text/html": [
       "<div>\n",
       "<style scoped>\n",
       "    .dataframe tbody tr th:only-of-type {\n",
       "        vertical-align: middle;\n",
       "    }\n",
       "\n",
       "    .dataframe tbody tr th {\n",
       "        vertical-align: top;\n",
       "    }\n",
       "\n",
       "    .dataframe thead th {\n",
       "        text-align: right;\n",
       "    }\n",
       "</style>\n",
       "<table border=\"1\" class=\"dataframe\">\n",
       "  <thead>\n",
       "    <tr style=\"text-align: right;\">\n",
       "      <th></th>\n",
       "      <th>name</th>\n",
       "      <th>sal</th>\n",
       "    </tr>\n",
       "  </thead>\n",
       "  <tbody>\n",
       "    <tr>\n",
       "      <th>3</th>\n",
       "      <td>Adhyan</td>\n",
       "      <td>4</td>\n",
       "    </tr>\n",
       "    <tr>\n",
       "      <th>5</th>\n",
       "      <td>Mudit</td>\n",
       "      <td>7</td>\n",
       "    </tr>\n",
       "    <tr>\n",
       "      <th>4</th>\n",
       "      <td>Sumit</td>\n",
       "      <td>5</td>\n",
       "    </tr>\n",
       "    <tr>\n",
       "      <th>1</th>\n",
       "      <td>shrey</td>\n",
       "      <td>6</td>\n",
       "    </tr>\n",
       "  </tbody>\n",
       "</table>\n",
       "</div>"
      ],
      "text/plain": [
       "     name  sal\n",
       "3  Adhyan    4\n",
       "5   Mudit    7\n",
       "4   Sumit    5\n",
       "1   shrey    6"
      ]
     },
     "execution_count": 93,
     "metadata": {},
     "output_type": "execute_result"
    }
   ],
   "source": [
    "df[df['com'] == 'TCS'][['name','sal']].sort_values(by  = 'name')"
   ]
  },
  {
   "cell_type": "code",
   "execution_count": null,
   "id": "02626a12-bd36-4f71-9187-321295a42b7a",
   "metadata": {},
   "outputs": [],
   "source": []
  }
 ],
 "metadata": {
  "kernelspec": {
   "display_name": "Python 3 (ipykernel)",
   "language": "python",
   "name": "python3"
  },
  "language_info": {
   "codemirror_mode": {
    "name": "ipython",
    "version": 3
   },
   "file_extension": ".py",
   "mimetype": "text/x-python",
   "name": "python",
   "nbconvert_exporter": "python",
   "pygments_lexer": "ipython3",
   "version": "3.13.3"
  }
 },
 "nbformat": 4,
 "nbformat_minor": 5
}
